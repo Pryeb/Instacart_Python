{
 "cells": [
  {
   "cell_type": "markdown",
   "id": "0e58bcc9",
   "metadata": {},
   "source": [
    "# 01.Importing libraries   "
   ]
  },
  {
   "cell_type": "code",
   "execution_count": 10,
   "id": "83965c69",
   "metadata": {},
   "outputs": [],
   "source": [
    "# Import libraries\n",
    "import pandas as pd\n",
    "import numpy as np\n",
    "import os"
   ]
  },
  {
   "cell_type": "markdown",
   "id": "5f7a5e54",
   "metadata": {},
   "source": [
    "# 02.working with Python data types"
   ]
  },
  {
   "cell_type": "markdown",
   "id": "0ac3679f",
   "metadata": {},
   "source": [
    "#Code 3 different ways of reaching a result of 100 by adding or subtracting numeric variables."
   ]
  },
  {
   "cell_type": "code",
   "execution_count": 12,
   "id": "03df7a1a",
   "metadata": {},
   "outputs": [
    {
     "data": {
      "text/plain": [
       "100"
      ]
     },
     "execution_count": 12,
     "metadata": {},
     "output_type": "execute_result"
    }
   ],
   "source": [
    "a = 45\n",
    "b = 55\n",
    "a + b \n"
   ]
  },
  {
   "cell_type": "code",
   "execution_count": 13,
   "id": "b3d36d02",
   "metadata": {},
   "outputs": [
    {
     "data": {
      "text/plain": [
       "100"
      ]
     },
     "execution_count": 13,
     "metadata": {},
     "output_type": "execute_result"
    }
   ],
   "source": [
    "a = 500\n",
    "b = 400\n",
    "a - b"
   ]
  },
  {
   "cell_type": "code",
   "execution_count": 14,
   "id": "834c3990",
   "metadata": {},
   "outputs": [
    {
     "data": {
      "text/plain": [
       "100"
      ]
     },
     "execution_count": 14,
     "metadata": {},
     "output_type": "execute_result"
    }
   ],
   "source": [
    "a = 250\n",
    "b = 350\n",
    "c = 700\n",
    "c - (a + b)"
   ]
  },
  {
   "cell_type": "markdown",
   "id": "bc75ad15",
   "metadata": {},
   "source": [
    "#Code 2 floating-point variables and divide them by each other"
   ]
  },
  {
   "cell_type": "code",
   "execution_count": 15,
   "id": "de080a16",
   "metadata": {},
   "outputs": [
    {
     "data": {
      "text/plain": [
       "2.166666666666667"
      ]
     },
     "execution_count": 15,
     "metadata": {},
     "output_type": "execute_result"
    }
   ],
   "source": [
    "d = 5.2\n",
    "e = 2.4\n",
    "d/e\n"
   ]
  },
  {
   "cell_type": "markdown",
   "id": "91689c9c",
   "metadata": {},
   "source": [
    "#Construct a short word made of separate strings (you’ll need to concatenate some strings!)"
   ]
  },
  {
   "cell_type": "code",
   "execution_count": 16,
   "id": "5a61ee87",
   "metadata": {},
   "outputs": [
    {
     "data": {
      "text/plain": [
       "'Concenteration'"
      ]
     },
     "execution_count": 16,
     "metadata": {},
     "output_type": "execute_result"
    }
   ],
   "source": [
    "a = 'Concen'\n",
    "b = 'teration'\n",
    "a+b"
   ]
  },
  {
   "cell_type": "markdown",
   "id": "71cd3679",
   "metadata": {},
   "source": [
    "#Construct 2 short sentences made of separate strings."
   ]
  },
  {
   "cell_type": "code",
   "execution_count": 17,
   "id": "235926cc",
   "metadata": {},
   "outputs": [
    {
     "data": {
      "text/plain": [
       "'Hello my friend, my name is Pourya'"
      ]
     },
     "execution_count": 17,
     "metadata": {},
     "output_type": "execute_result"
    }
   ],
   "source": [
    "a = 'Hello my friend, '\n",
    "b = 'my name is Pourya'\n",
    "a + b"
   ]
  },
  {
   "cell_type": "markdown",
   "id": "c44d4650",
   "metadata": {},
   "source": [
    "#At the bottom of your file, include a command that makes a string appear 100 times."
   ]
  },
  {
   "cell_type": "code",
   "execution_count": 18,
   "id": "d98f6a4b",
   "metadata": {},
   "outputs": [
    {
     "data": {
      "text/plain": [
       "'PythonPythonPythonPythonPythonPythonPythonPythonPythonPythonPythonPythonPythonPythonPythonPythonPythonPythonPythonPythonPythonPythonPythonPythonPythonPythonPythonPythonPythonPythonPythonPythonPythonPythonPythonPythonPythonPythonPythonPythonPythonPythonPythonPythonPythonPythonPythonPythonPythonPythonPythonPythonPythonPythonPythonPythonPythonPythonPythonPythonPythonPythonPythonPythonPythonPythonPythonPythonPythonPythonPythonPythonPythonPythonPythonPythonPythonPythonPythonPythonPythonPythonPythonPythonPythonPythonPythonPythonPythonPythonPythonPythonPythonPythonPythonPythonPythonPythonPythonPython'"
      ]
     },
     "execution_count": 18,
     "metadata": {},
     "output_type": "execute_result"
    }
   ],
   "source": [
    "a = 'Python'\n",
    "100*a"
   ]
  },
  {
   "cell_type": "code",
   "execution_count": null,
   "id": "5a95bd3a",
   "metadata": {},
   "outputs": [],
   "source": []
  }
 ],
 "metadata": {
  "kernelspec": {
   "display_name": "Python 3 (ipykernel)",
   "language": "python",
   "name": "python3"
  },
  "language_info": {
   "codemirror_mode": {
    "name": "ipython",
    "version": 3
   },
   "file_extension": ".py",
   "mimetype": "text/x-python",
   "name": "python",
   "nbconvert_exporter": "python",
   "pygments_lexer": "ipython3",
   "version": "3.11.5"
  }
 },
 "nbformat": 4,
 "nbformat_minor": 5
}
