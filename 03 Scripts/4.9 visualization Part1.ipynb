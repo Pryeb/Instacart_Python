{
 "cells": [
  {
   "cell_type": "markdown",
   "id": "50eabb5d",
   "metadata": {},
   "source": [
    "# Products Data Wrangling"
   ]
  },
  {
   "cell_type": "markdown",
   "id": "c81498d0",
   "metadata": {},
   "source": [
    "1.Importing dataset."
   ]
  },
  {
   "cell_type": "markdown",
   "id": "e5be368a",
   "metadata": {},
   "source": [
    "2.Checking columns name and deleting unusefull columns."
   ]
  },
  {
   "cell_type": "markdown",
   "id": "1c8f5ccd",
   "metadata": {},
   "source": [
    "3.Checking data consistency"
   ]
  },
  {
   "cell_type": "markdown",
   "id": "2b0773e9",
   "metadata": {},
   "source": [
    "4.Checking for duplicates"
   ]
  },
  {
   "cell_type": "markdown",
   "id": "38fb7c52",
   "metadata": {},
   "source": [
    "5.Merging "
   ]
  },
  {
   "cell_type": "markdown",
   "id": "f1bc09ce",
   "metadata": {},
   "source": [
    "6.Exporting data"
   ]
  },
  {
   "cell_type": "markdown",
   "id": "8fe3db95",
   "metadata": {},
   "source": [
    "# 1.Importing Libraries and Data"
   ]
  },
  {
   "cell_type": "code",
   "execution_count": 1,
   "id": "d040b593",
   "metadata": {},
   "outputs": [],
   "source": [
    "#Imorting libraries\n",
    "import pandas as pd\n",
    "import numpy as np\n",
    "import os\n",
    "import matplotlib.pyplot as plt\n",
    "import matplotlib as mpl\n",
    "import seaborn as sns\n",
    "import scipy"
   ]
  },
  {
   "cell_type": "code",
   "execution_count": 2,
   "id": "384556b7",
   "metadata": {},
   "outputs": [],
   "source": [
    "path = r'C:\\Users\\poury\\12-2023 Instacart Basket Analysis'"
   ]
  },
  {
   "cell_type": "code",
   "execution_count": 3,
   "id": "d04fb965",
   "metadata": {},
   "outputs": [],
   "source": [
    "df_customers = pd.read_csv(os.path.join(path, '02 Data', 'original data', 'customers.csv'))"
   ]
  },
  {
   "cell_type": "code",
   "execution_count": 4,
   "id": "37220fe0",
   "metadata": {},
   "outputs": [],
   "source": [
    "df_ords_prods = pd.read_pickle(os.path.join(path,'02 Data/Prepared Data/orders_products_merged_derived_2.pkl'))"
   ]
  },
  {
   "cell_type": "markdown",
   "id": "751b5055",
   "metadata": {},
   "source": [
    "# 2.Checking Columns Name "
   ]
  },
  {
   "cell_type": "code",
   "execution_count": 5,
   "id": "f88ff588",
   "metadata": {},
   "outputs": [
    {
     "data": {
      "text/html": [
       "<div>\n",
       "<style scoped>\n",
       "    .dataframe tbody tr th:only-of-type {\n",
       "        vertical-align: middle;\n",
       "    }\n",
       "\n",
       "    .dataframe tbody tr th {\n",
       "        vertical-align: top;\n",
       "    }\n",
       "\n",
       "    .dataframe thead th {\n",
       "        text-align: right;\n",
       "    }\n",
       "</style>\n",
       "<table border=\"1\" class=\"dataframe\">\n",
       "  <thead>\n",
       "    <tr style=\"text-align: right;\">\n",
       "      <th></th>\n",
       "      <th>user_id</th>\n",
       "      <th>First Name</th>\n",
       "      <th>Surnam</th>\n",
       "      <th>Gender</th>\n",
       "      <th>STATE</th>\n",
       "      <th>Age</th>\n",
       "      <th>date_joined</th>\n",
       "      <th>n_dependants</th>\n",
       "      <th>fam_status</th>\n",
       "      <th>income</th>\n",
       "    </tr>\n",
       "  </thead>\n",
       "  <tbody>\n",
       "    <tr>\n",
       "      <th>0</th>\n",
       "      <td>26711</td>\n",
       "      <td>Deborah</td>\n",
       "      <td>Esquivel</td>\n",
       "      <td>Female</td>\n",
       "      <td>Missouri</td>\n",
       "      <td>48</td>\n",
       "      <td>1/1/2017</td>\n",
       "      <td>3</td>\n",
       "      <td>married</td>\n",
       "      <td>165665</td>\n",
       "    </tr>\n",
       "    <tr>\n",
       "      <th>1</th>\n",
       "      <td>33890</td>\n",
       "      <td>Patricia</td>\n",
       "      <td>Hart</td>\n",
       "      <td>Female</td>\n",
       "      <td>New Mexico</td>\n",
       "      <td>36</td>\n",
       "      <td>1/1/2017</td>\n",
       "      <td>0</td>\n",
       "      <td>single</td>\n",
       "      <td>59285</td>\n",
       "    </tr>\n",
       "    <tr>\n",
       "      <th>2</th>\n",
       "      <td>65803</td>\n",
       "      <td>Kenneth</td>\n",
       "      <td>Farley</td>\n",
       "      <td>Male</td>\n",
       "      <td>Idaho</td>\n",
       "      <td>35</td>\n",
       "      <td>1/1/2017</td>\n",
       "      <td>2</td>\n",
       "      <td>married</td>\n",
       "      <td>99568</td>\n",
       "    </tr>\n",
       "    <tr>\n",
       "      <th>3</th>\n",
       "      <td>125935</td>\n",
       "      <td>Michelle</td>\n",
       "      <td>Hicks</td>\n",
       "      <td>Female</td>\n",
       "      <td>Iowa</td>\n",
       "      <td>40</td>\n",
       "      <td>1/1/2017</td>\n",
       "      <td>0</td>\n",
       "      <td>single</td>\n",
       "      <td>42049</td>\n",
       "    </tr>\n",
       "    <tr>\n",
       "      <th>4</th>\n",
       "      <td>130797</td>\n",
       "      <td>Ann</td>\n",
       "      <td>Gilmore</td>\n",
       "      <td>Female</td>\n",
       "      <td>Maryland</td>\n",
       "      <td>26</td>\n",
       "      <td>1/1/2017</td>\n",
       "      <td>1</td>\n",
       "      <td>married</td>\n",
       "      <td>40374</td>\n",
       "    </tr>\n",
       "  </tbody>\n",
       "</table>\n",
       "</div>"
      ],
      "text/plain": [
       "   user_id First Name    Surnam  Gender       STATE  Age date_joined  \\\n",
       "0    26711    Deborah  Esquivel  Female    Missouri   48    1/1/2017   \n",
       "1    33890   Patricia      Hart  Female  New Mexico   36    1/1/2017   \n",
       "2    65803    Kenneth    Farley    Male       Idaho   35    1/1/2017   \n",
       "3   125935   Michelle     Hicks  Female        Iowa   40    1/1/2017   \n",
       "4   130797        Ann   Gilmore  Female    Maryland   26    1/1/2017   \n",
       "\n",
       "   n_dependants fam_status  income  \n",
       "0             3    married  165665  \n",
       "1             0     single   59285  \n",
       "2             2    married   99568  \n",
       "3             0     single   42049  \n",
       "4             1    married   40374  "
      ]
     },
     "execution_count": 5,
     "metadata": {},
     "output_type": "execute_result"
    }
   ],
   "source": [
    "df_customers.head()"
   ]
  },
  {
   "cell_type": "code",
   "execution_count": 6,
   "id": "a7281aa0",
   "metadata": {},
   "outputs": [
    {
     "data": {
      "text/plain": [
       "(206209, 10)"
      ]
     },
     "execution_count": 6,
     "metadata": {},
     "output_type": "execute_result"
    }
   ],
   "source": [
    "df_customers.shape"
   ]
  },
  {
   "cell_type": "code",
   "execution_count": 7,
   "id": "d03678f9",
   "metadata": {},
   "outputs": [],
   "source": [
    "#Changing needed columns name\n",
    "df_customers.rename(columns={\"First Name\":\"first_name\", \"Surnam\":\"last_name\", \"Gender\":\"gender\", \"STATE\":\"state\", \"Age\":\"age\"}, inplace=True)"
   ]
  },
  {
   "cell_type": "code",
   "execution_count": 8,
   "id": "5f6986ae",
   "metadata": {},
   "outputs": [
    {
     "data": {
      "text/html": [
       "<div>\n",
       "<style scoped>\n",
       "    .dataframe tbody tr th:only-of-type {\n",
       "        vertical-align: middle;\n",
       "    }\n",
       "\n",
       "    .dataframe tbody tr th {\n",
       "        vertical-align: top;\n",
       "    }\n",
       "\n",
       "    .dataframe thead th {\n",
       "        text-align: right;\n",
       "    }\n",
       "</style>\n",
       "<table border=\"1\" class=\"dataframe\">\n",
       "  <thead>\n",
       "    <tr style=\"text-align: right;\">\n",
       "      <th></th>\n",
       "      <th>user_id</th>\n",
       "      <th>first_name</th>\n",
       "      <th>last_name</th>\n",
       "      <th>gender</th>\n",
       "      <th>state</th>\n",
       "      <th>age</th>\n",
       "      <th>date_joined</th>\n",
       "      <th>n_dependants</th>\n",
       "      <th>fam_status</th>\n",
       "      <th>income</th>\n",
       "    </tr>\n",
       "  </thead>\n",
       "  <tbody>\n",
       "    <tr>\n",
       "      <th>0</th>\n",
       "      <td>26711</td>\n",
       "      <td>Deborah</td>\n",
       "      <td>Esquivel</td>\n",
       "      <td>Female</td>\n",
       "      <td>Missouri</td>\n",
       "      <td>48</td>\n",
       "      <td>1/1/2017</td>\n",
       "      <td>3</td>\n",
       "      <td>married</td>\n",
       "      <td>165665</td>\n",
       "    </tr>\n",
       "    <tr>\n",
       "      <th>1</th>\n",
       "      <td>33890</td>\n",
       "      <td>Patricia</td>\n",
       "      <td>Hart</td>\n",
       "      <td>Female</td>\n",
       "      <td>New Mexico</td>\n",
       "      <td>36</td>\n",
       "      <td>1/1/2017</td>\n",
       "      <td>0</td>\n",
       "      <td>single</td>\n",
       "      <td>59285</td>\n",
       "    </tr>\n",
       "    <tr>\n",
       "      <th>2</th>\n",
       "      <td>65803</td>\n",
       "      <td>Kenneth</td>\n",
       "      <td>Farley</td>\n",
       "      <td>Male</td>\n",
       "      <td>Idaho</td>\n",
       "      <td>35</td>\n",
       "      <td>1/1/2017</td>\n",
       "      <td>2</td>\n",
       "      <td>married</td>\n",
       "      <td>99568</td>\n",
       "    </tr>\n",
       "    <tr>\n",
       "      <th>3</th>\n",
       "      <td>125935</td>\n",
       "      <td>Michelle</td>\n",
       "      <td>Hicks</td>\n",
       "      <td>Female</td>\n",
       "      <td>Iowa</td>\n",
       "      <td>40</td>\n",
       "      <td>1/1/2017</td>\n",
       "      <td>0</td>\n",
       "      <td>single</td>\n",
       "      <td>42049</td>\n",
       "    </tr>\n",
       "    <tr>\n",
       "      <th>4</th>\n",
       "      <td>130797</td>\n",
       "      <td>Ann</td>\n",
       "      <td>Gilmore</td>\n",
       "      <td>Female</td>\n",
       "      <td>Maryland</td>\n",
       "      <td>26</td>\n",
       "      <td>1/1/2017</td>\n",
       "      <td>1</td>\n",
       "      <td>married</td>\n",
       "      <td>40374</td>\n",
       "    </tr>\n",
       "  </tbody>\n",
       "</table>\n",
       "</div>"
      ],
      "text/plain": [
       "   user_id first_name last_name  gender       state  age date_joined  \\\n",
       "0    26711    Deborah  Esquivel  Female    Missouri   48    1/1/2017   \n",
       "1    33890   Patricia      Hart  Female  New Mexico   36    1/1/2017   \n",
       "2    65803    Kenneth    Farley    Male       Idaho   35    1/1/2017   \n",
       "3   125935   Michelle     Hicks  Female        Iowa   40    1/1/2017   \n",
       "4   130797        Ann   Gilmore  Female    Maryland   26    1/1/2017   \n",
       "\n",
       "   n_dependants fam_status  income  \n",
       "0             3    married  165665  \n",
       "1             0     single   59285  \n",
       "2             2    married   99568  \n",
       "3             0     single   42049  \n",
       "4             1    married   40374  "
      ]
     },
     "execution_count": 8,
     "metadata": {},
     "output_type": "execute_result"
    }
   ],
   "source": [
    "df_customers.head()"
   ]
  },
  {
   "cell_type": "markdown",
   "id": "17425b76",
   "metadata": {},
   "source": [
    "# Checking Data Consistency"
   ]
  },
  {
   "cell_type": "code",
   "execution_count": 9,
   "id": "9aa6245b",
   "metadata": {},
   "outputs": [
    {
     "data": {
      "text/plain": [
       "user_id          int64\n",
       "first_name      object\n",
       "last_name       object\n",
       "gender          object\n",
       "state           object\n",
       "age              int64\n",
       "date_joined     object\n",
       "n_dependants     int64\n",
       "fam_status      object\n",
       "income           int64\n",
       "dtype: object"
      ]
     },
     "execution_count": 9,
     "metadata": {},
     "output_type": "execute_result"
    }
   ],
   "source": [
    "#Checking data types\n",
    "df_customers.dtypes"
   ]
  },
  {
   "cell_type": "code",
   "execution_count": 10,
   "id": "66727ce6",
   "metadata": {},
   "outputs": [],
   "source": [
    "#Changing data types \n",
    "df_customers['date_joined'] = pd.to_datetime(df_customers['date_joined'])\n",
    "df_customers['gender'] = df_customers['gender'].astype('category')\n",
    "df_customers['state'] = df_customers['state'].astype('category')\n",
    "df_customers['fam_status'] = df_customers['fam_status'].astype('category')"
   ]
  },
  {
   "cell_type": "code",
   "execution_count": 11,
   "id": "6b1bb5a3",
   "metadata": {},
   "outputs": [
    {
     "name": "stdout",
     "output_type": "stream",
     "text": [
      "first_name\n"
     ]
    }
   ],
   "source": [
    "#Checking for mixed data type\n",
    "for col in df_customers.columns.tolist():\n",
    "    weird = (df_customers[[col]].map(type) != df_customers[[col]].iloc[0].apply(type)).any(axis = 1)\n",
    "    \n",
    "    if len (df_customers[weird]) > 0:\n",
    "        print (col)"
   ]
  },
  {
   "cell_type": "code",
   "execution_count": 12,
   "id": "b72bce5a",
   "metadata": {},
   "outputs": [],
   "source": [
    "#Fixing the mixed type in first_name column\n",
    "df_customers['first_name'] = df_customers['first_name'].astype(str)"
   ]
  },
  {
   "cell_type": "code",
   "execution_count": 13,
   "id": "1e9df661",
   "metadata": {},
   "outputs": [
    {
     "data": {
      "text/plain": [
       "user_id         0\n",
       "first_name      0\n",
       "last_name       0\n",
       "gender          0\n",
       "state           0\n",
       "age             0\n",
       "date_joined     0\n",
       "n_dependants    0\n",
       "fam_status      0\n",
       "income          0\n",
       "dtype: int64"
      ]
     },
     "execution_count": 13,
     "metadata": {},
     "output_type": "execute_result"
    }
   ],
   "source": [
    "#Missing values\n",
    "df_customers.isnull().sum()"
   ]
  },
  {
   "cell_type": "markdown",
   "id": "224e4ce4",
   "metadata": {},
   "source": [
    "#No missing value"
   ]
  },
  {
   "cell_type": "code",
   "execution_count": 14,
   "id": "219bd175",
   "metadata": {},
   "outputs": [],
   "source": [
    "#Duplicates\n",
    "df_dups = df_customers[df_customers.duplicated()]"
   ]
  },
  {
   "cell_type": "code",
   "execution_count": 15,
   "id": "3b3d76f9",
   "metadata": {},
   "outputs": [
    {
     "data": {
      "text/html": [
       "<div>\n",
       "<style scoped>\n",
       "    .dataframe tbody tr th:only-of-type {\n",
       "        vertical-align: middle;\n",
       "    }\n",
       "\n",
       "    .dataframe tbody tr th {\n",
       "        vertical-align: top;\n",
       "    }\n",
       "\n",
       "    .dataframe thead th {\n",
       "        text-align: right;\n",
       "    }\n",
       "</style>\n",
       "<table border=\"1\" class=\"dataframe\">\n",
       "  <thead>\n",
       "    <tr style=\"text-align: right;\">\n",
       "      <th></th>\n",
       "      <th>user_id</th>\n",
       "      <th>first_name</th>\n",
       "      <th>last_name</th>\n",
       "      <th>gender</th>\n",
       "      <th>state</th>\n",
       "      <th>age</th>\n",
       "      <th>date_joined</th>\n",
       "      <th>n_dependants</th>\n",
       "      <th>fam_status</th>\n",
       "      <th>income</th>\n",
       "    </tr>\n",
       "  </thead>\n",
       "  <tbody>\n",
       "  </tbody>\n",
       "</table>\n",
       "</div>"
      ],
      "text/plain": [
       "Empty DataFrame\n",
       "Columns: [user_id, first_name, last_name, gender, state, age, date_joined, n_dependants, fam_status, income]\n",
       "Index: []"
      ]
     },
     "execution_count": 15,
     "metadata": {},
     "output_type": "execute_result"
    }
   ],
   "source": [
    "df_dups"
   ]
  },
  {
   "cell_type": "markdown",
   "id": "641bbb68",
   "metadata": {},
   "source": [
    "#No duplicate"
   ]
  },
  {
   "cell_type": "code",
   "execution_count": 16,
   "id": "7c363186",
   "metadata": {},
   "outputs": [
    {
     "data": {
      "text/plain": [
       "51"
      ]
     },
     "execution_count": 16,
     "metadata": {},
     "output_type": "execute_result"
    }
   ],
   "source": [
    "#Checking states\n",
    "df_customers['state'].nunique()"
   ]
  },
  {
   "cell_type": "code",
   "execution_count": 17,
   "id": "7fbad3aa",
   "metadata": {},
   "outputs": [
    {
     "data": {
      "text/plain": [
       "state\n",
       "Alabama                 4044\n",
       "District of Columbia    4044\n",
       "Iowa                    4044\n",
       "Indiana                 4044\n",
       "Illinois                4044\n",
       "Idaho                   4044\n",
       "Georgia                 4044\n",
       "Florida                 4044\n",
       "Hawaii                  4044\n",
       "Delaware                4044\n",
       "Connecticut             4044\n",
       "Colorado                4044\n",
       "California              4044\n",
       "Arkansas                4044\n",
       "Arizona                 4044\n",
       "Alaska                  4044\n",
       "South Dakota            4043\n",
       "Ohio                    4043\n",
       "Oklahoma                4043\n",
       "Oregon                  4043\n",
       "Pennsylvania            4043\n",
       "Rhode Island            4043\n",
       "South Carolina          4043\n",
       "Wisconsin               4043\n",
       "Tennessee               4043\n",
       "Texas                   4043\n",
       "Utah                    4043\n",
       "Vermont                 4043\n",
       "Virginia                4043\n",
       "Washington              4043\n",
       "West Virginia           4043\n",
       "North Carolina          4043\n",
       "North Dakota            4043\n",
       "Missouri                4043\n",
       "New York                4043\n",
       "Michigan                4043\n",
       "Kansas                  4043\n",
       "Kentucky                4043\n",
       "Louisiana               4043\n",
       "Maine                   4043\n",
       "Maryland                4043\n",
       "Massachusetts           4043\n",
       "Minnesota               4043\n",
       "New Mexico              4043\n",
       "Mississippi             4043\n",
       "Montana                 4043\n",
       "Nebraska                4043\n",
       "Nevada                  4043\n",
       "New Hampshire           4043\n",
       "New Jersey              4043\n",
       "Wyoming                 4043\n",
       "Name: count, dtype: int64"
      ]
     },
     "execution_count": 17,
     "metadata": {},
     "output_type": "execute_result"
    }
   ],
   "source": [
    "df_customers['state'].value_counts(dropna=False)"
   ]
  },
  {
   "cell_type": "markdown",
   "id": "d365d687",
   "metadata": {},
   "source": [
    "#All the states including D.C are included with right names"
   ]
  },
  {
   "cell_type": "code",
   "execution_count": 18,
   "id": "3deedf51",
   "metadata": {},
   "outputs": [
    {
     "data": {
      "text/html": [
       "<div>\n",
       "<style scoped>\n",
       "    .dataframe tbody tr th:only-of-type {\n",
       "        vertical-align: middle;\n",
       "    }\n",
       "\n",
       "    .dataframe tbody tr th {\n",
       "        vertical-align: top;\n",
       "    }\n",
       "\n",
       "    .dataframe thead th {\n",
       "        text-align: right;\n",
       "    }\n",
       "</style>\n",
       "<table border=\"1\" class=\"dataframe\">\n",
       "  <thead>\n",
       "    <tr style=\"text-align: right;\">\n",
       "      <th></th>\n",
       "      <th>user_id</th>\n",
       "      <th>age</th>\n",
       "      <th>date_joined</th>\n",
       "      <th>n_dependants</th>\n",
       "      <th>income</th>\n",
       "    </tr>\n",
       "  </thead>\n",
       "  <tbody>\n",
       "    <tr>\n",
       "      <th>count</th>\n",
       "      <td>206209.000000</td>\n",
       "      <td>206209.000000</td>\n",
       "      <td>206209</td>\n",
       "      <td>206209.000000</td>\n",
       "      <td>206209.000000</td>\n",
       "    </tr>\n",
       "    <tr>\n",
       "      <th>mean</th>\n",
       "      <td>103105.000000</td>\n",
       "      <td>49.501646</td>\n",
       "      <td>2018-08-17 03:06:30.029532928</td>\n",
       "      <td>1.499823</td>\n",
       "      <td>94632.852548</td>\n",
       "    </tr>\n",
       "    <tr>\n",
       "      <th>min</th>\n",
       "      <td>1.000000</td>\n",
       "      <td>18.000000</td>\n",
       "      <td>2017-01-01 00:00:00</td>\n",
       "      <td>0.000000</td>\n",
       "      <td>25903.000000</td>\n",
       "    </tr>\n",
       "    <tr>\n",
       "      <th>25%</th>\n",
       "      <td>51553.000000</td>\n",
       "      <td>33.000000</td>\n",
       "      <td>2017-10-23 00:00:00</td>\n",
       "      <td>0.000000</td>\n",
       "      <td>59874.000000</td>\n",
       "    </tr>\n",
       "    <tr>\n",
       "      <th>50%</th>\n",
       "      <td>103105.000000</td>\n",
       "      <td>49.000000</td>\n",
       "      <td>2018-08-16 00:00:00</td>\n",
       "      <td>1.000000</td>\n",
       "      <td>93547.000000</td>\n",
       "    </tr>\n",
       "    <tr>\n",
       "      <th>75%</th>\n",
       "      <td>154657.000000</td>\n",
       "      <td>66.000000</td>\n",
       "      <td>2019-06-10 00:00:00</td>\n",
       "      <td>3.000000</td>\n",
       "      <td>124244.000000</td>\n",
       "    </tr>\n",
       "    <tr>\n",
       "      <th>max</th>\n",
       "      <td>206209.000000</td>\n",
       "      <td>81.000000</td>\n",
       "      <td>2020-04-01 00:00:00</td>\n",
       "      <td>3.000000</td>\n",
       "      <td>593901.000000</td>\n",
       "    </tr>\n",
       "    <tr>\n",
       "      <th>std</th>\n",
       "      <td>59527.555167</td>\n",
       "      <td>18.480962</td>\n",
       "      <td>NaN</td>\n",
       "      <td>1.118433</td>\n",
       "      <td>42473.786988</td>\n",
       "    </tr>\n",
       "  </tbody>\n",
       "</table>\n",
       "</div>"
      ],
      "text/plain": [
       "             user_id            age                    date_joined  \\\n",
       "count  206209.000000  206209.000000                         206209   \n",
       "mean   103105.000000      49.501646  2018-08-17 03:06:30.029532928   \n",
       "min         1.000000      18.000000            2017-01-01 00:00:00   \n",
       "25%     51553.000000      33.000000            2017-10-23 00:00:00   \n",
       "50%    103105.000000      49.000000            2018-08-16 00:00:00   \n",
       "75%    154657.000000      66.000000            2019-06-10 00:00:00   \n",
       "max    206209.000000      81.000000            2020-04-01 00:00:00   \n",
       "std     59527.555167      18.480962                            NaN   \n",
       "\n",
       "        n_dependants         income  \n",
       "count  206209.000000  206209.000000  \n",
       "mean        1.499823   94632.852548  \n",
       "min         0.000000   25903.000000  \n",
       "25%         0.000000   59874.000000  \n",
       "50%         1.000000   93547.000000  \n",
       "75%         3.000000  124244.000000  \n",
       "max         3.000000  593901.000000  \n",
       "std         1.118433   42473.786988  "
      ]
     },
     "execution_count": 18,
     "metadata": {},
     "output_type": "execute_result"
    }
   ],
   "source": [
    "df_customers.describe()"
   ]
  },
  {
   "cell_type": "markdown",
   "id": "5beb02d7",
   "metadata": {},
   "source": [
    "#Observations:\n",
    "Age column looks ok, we have no unnormal age and outlier here.\n",
    "Other statistics also look ok."
   ]
  },
  {
   "cell_type": "markdown",
   "id": "f5f21bb5",
   "metadata": {},
   "source": [
    "# Merging datas"
   ]
  },
  {
   "cell_type": "code",
   "execution_count": 19,
   "id": "10ca36c4",
   "metadata": {},
   "outputs": [
    {
     "data": {
      "text/plain": [
       "(32434212, 28)"
      ]
     },
     "execution_count": 19,
     "metadata": {},
     "output_type": "execute_result"
    }
   ],
   "source": [
    "df_ords_prods.shape"
   ]
  },
  {
   "cell_type": "code",
   "execution_count": 20,
   "id": "5c088085",
   "metadata": {},
   "outputs": [
    {
     "data": {
      "text/plain": [
       "product_id                   int64\n",
       "product_name                object\n",
       "aisle_id                     int64\n",
       "department_id                int64\n",
       "prices                     float64\n",
       "order_id                     int64\n",
       "user_id                      int64\n",
       "eval_set                    object\n",
       "order_number                 int64\n",
       "orders_day_of_week           int64\n",
       "order_hour_of_day            int64\n",
       "days_since_prior_order     float64\n",
       "add_to_cart_order            int64\n",
       "reordered                    int64\n",
       "_merge                    category\n",
       "price_range                 object\n",
       "price_range_loc             object\n",
       "Busiest_day                 object\n",
       "Busiest_days                object\n",
       "Busiest_priod_of_day        object\n",
       "max_order                    int64\n",
       "loyalty_flag                object\n",
       "mean_spend                 float64\n",
       "spending_flag               object\n",
       "mean_DSPO                  float64\n",
       "median_DSPO                float64\n",
       "median_order_freq          float64\n",
       "order_freq_flag             object\n",
       "dtype: object"
      ]
     },
     "execution_count": 20,
     "metadata": {},
     "output_type": "execute_result"
    }
   ],
   "source": [
    "#Checking for the merge column\n",
    "df_ords_prods.dtypes"
   ]
  },
  {
   "cell_type": "code",
   "execution_count": 21,
   "id": "80da2195",
   "metadata": {},
   "outputs": [],
   "source": [
    "df_ords_prods.drop(columns=['_merge'], inplace=True)"
   ]
  },
  {
   "cell_type": "code",
   "execution_count": 22,
   "id": "13d532ef",
   "metadata": {},
   "outputs": [],
   "source": [
    "df_ords_prods['user_id'] = df_ords_prods['user_id'].astype('int64')"
   ]
  },
  {
   "cell_type": "code",
   "execution_count": 23,
   "id": "657a303c",
   "metadata": {},
   "outputs": [],
   "source": [
    "df_ords_prods_customers = df_ords_prods.merge(df_customers, on=['user_id'], indicator=True)"
   ]
  },
  {
   "cell_type": "code",
   "execution_count": 24,
   "id": "a5611de1",
   "metadata": {},
   "outputs": [
    {
     "data": {
      "text/plain": [
       "_merge\n",
       "both          32434212\n",
       "left_only            0\n",
       "right_only           0\n",
       "Name: count, dtype: int64"
      ]
     },
     "execution_count": 24,
     "metadata": {},
     "output_type": "execute_result"
    }
   ],
   "source": [
    "df_ords_prods_customers['_merge'].value_counts(dropna=False)"
   ]
  },
  {
   "cell_type": "code",
   "execution_count": 27,
   "id": "777fd2db",
   "metadata": {},
   "outputs": [],
   "source": [
    "df_ords_prods_customers.to_pickle(os.path.join(path, '02 Data', 'prepared data', 'ords_prods_customers.pkl'))"
   ]
  },
  {
   "cell_type": "code",
   "execution_count": null,
   "id": "1073d02d",
   "metadata": {},
   "outputs": [],
   "source": []
  }
 ],
 "metadata": {
  "kernelspec": {
   "display_name": "Python 3 (ipykernel)",
   "language": "python",
   "name": "python3"
  },
  "language_info": {
   "codemirror_mode": {
    "name": "ipython",
    "version": 3
   },
   "file_extension": ".py",
   "mimetype": "text/x-python",
   "name": "python",
   "nbconvert_exporter": "python",
   "pygments_lexer": "ipython3",
   "version": "3.11.5"
  }
 },
 "nbformat": 4,
 "nbformat_minor": 5
}
